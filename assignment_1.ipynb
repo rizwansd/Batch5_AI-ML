{
  "nbformat": 4,
  "nbformat_minor": 0,
  "metadata": {
    "colab": {
      "provenance": [],
      "authorship_tag": "ABX9TyMKlXIiTF59maLgETAyXNXv",
      "include_colab_link": true
    },
    "kernelspec": {
      "name": "python3",
      "display_name": "Python 3"
    },
    "language_info": {
      "name": "python"
    }
  },
  "cells": [
    {
      "cell_type": "markdown",
      "metadata": {
        "id": "view-in-github",
        "colab_type": "text"
      },
      "source": [
        "<a href=\"https://colab.research.google.com/github/rizwansd/Batch5_AI-ML/blob/main/assignment_1.ipynb\" target=\"_parent\"><img src=\"https://colab.research.google.com/assets/colab-badge.svg\" alt=\"Open In Colab\"/></a>"
      ]
    },
    {
      "cell_type": "markdown",
      "source": [
        "PART 1 – Implement Basic Data Structures using Numpy, Pandas"
      ],
      "metadata": {
        "id": "10KOdmI2Yw5f"
      }
    },
    {
      "cell_type": "code",
      "source": [
        "var=[1,3,7,8]\n",
        "print(var)"
      ],
      "metadata": {
        "colab": {
          "base_uri": "https://localhost:8080/"
        },
        "id": "nHxYnZMveYBy",
        "outputId": "7c51d99b-6e06-4fc3-ace0-c47625406d48"
      },
      "execution_count": 22,
      "outputs": [
        {
          "output_type": "stream",
          "name": "stdout",
          "text": [
            "[1, 3, 7, 8]\n"
          ]
        }
      ]
    },
    {
      "cell_type": "markdown",
      "source": [
        "list"
      ],
      "metadata": {
        "id": "TYNBEn1AehaZ"
      }
    },
    {
      "cell_type": "code",
      "source": [
        "l=[1,3,'mohan',80.9]\n",
        "print(l)"
      ],
      "metadata": {
        "colab": {
          "base_uri": "https://localhost:8080/"
        },
        "id": "LHMoEzZweutC",
        "outputId": "60ee092b-f6f1-43ba-882e-ebd314475d81"
      },
      "execution_count": 21,
      "outputs": [
        {
          "output_type": "stream",
          "name": "stdout",
          "text": [
            "[1, 3, 'mohan', 80.9]\n"
          ]
        }
      ]
    },
    {
      "cell_type": "markdown",
      "source": [
        "list operations"
      ],
      "metadata": {
        "id": "WUQGxgppe7fn"
      }
    },
    {
      "cell_type": "code",
      "source": [
        "l=[2,1,6]\n",
        "l.append(4)\n",
        "print(l)"
      ],
      "metadata": {
        "colab": {
          "base_uri": "https://localhost:8080/"
        },
        "id": "fhAKdooYfB0X",
        "outputId": "dafa6d63-94f7-427a-c011-fbb7ceefc10d"
      },
      "execution_count": 20,
      "outputs": [
        {
          "output_type": "stream",
          "name": "stdout",
          "text": [
            "[2, 1, 6, 4]\n"
          ]
        }
      ]
    },
    {
      "cell_type": "code",
      "source": [
        "l=[2,1,6]\n",
        "l.insert(1,99)\n",
        "print(l)"
      ],
      "metadata": {
        "colab": {
          "base_uri": "https://localhost:8080/"
        },
        "id": "U_L504kdfPnH",
        "outputId": "ca4a400b-2afb-43ae-ae63-c89b08458050"
      },
      "execution_count": 19,
      "outputs": [
        {
          "output_type": "stream",
          "name": "stdout",
          "text": [
            "[2, 99, 1, 6]\n"
          ]
        }
      ]
    },
    {
      "cell_type": "code",
      "source": [
        "l=[2,1,6]\n",
        "l.pop(1)\n",
        "print(l)"
      ],
      "metadata": {
        "colab": {
          "base_uri": "https://localhost:8080/"
        },
        "id": "gZWaN6ylfUVq",
        "outputId": "0277bfdc-60d1-47fa-967d-219288476d32"
      },
      "execution_count": 18,
      "outputs": [
        {
          "output_type": "stream",
          "name": "stdout",
          "text": [
            "[2, 6]\n"
          ]
        }
      ]
    },
    {
      "cell_type": "markdown",
      "source": [
        "array"
      ],
      "metadata": {
        "id": "0J6coWpPfZ4v"
      }
    },
    {
      "cell_type": "code",
      "source": [
        "import numpy as np\n",
        "\n",
        "arr = np.array([1, 2, 3, 4, 5])\n",
        "\n",
        "print(arr)"
      ],
      "metadata": {
        "colab": {
          "base_uri": "https://localhost:8080/"
        },
        "id": "Y8e4i5nWfavM",
        "outputId": "20411241-66be-4de7-8a5d-bc49240b249f"
      },
      "execution_count": 17,
      "outputs": [
        {
          "output_type": "stream",
          "name": "stdout",
          "text": [
            "[1 2 3 4 5]\n"
          ]
        }
      ]
    },
    {
      "cell_type": "markdown",
      "source": [
        "data type"
      ],
      "metadata": {
        "id": "NVaFo5Xbfid1"
      }
    },
    {
      "cell_type": "code",
      "source": [
        "import numpy as np\n",
        "\n",
        "arr = np.array([1, 2, 3, 4, 5])\n",
        "\n",
        "print(arr)\n",
        "\n",
        "print(type(arr))"
      ],
      "metadata": {
        "colab": {
          "base_uri": "https://localhost:8080/"
        },
        "id": "m9-lY-dSfjKM",
        "outputId": "1b200f32-00dd-4e33-de7f-271aae180875"
      },
      "execution_count": 16,
      "outputs": [
        {
          "output_type": "stream",
          "name": "stdout",
          "text": [
            "[1 2 3 4 5]\n",
            "<class 'numpy.ndarray'>\n"
          ]
        }
      ]
    },
    {
      "cell_type": "code",
      "source": [
        "l=type(1)\n",
        "k=type(23.9)\n",
        "print(l)\n",
        "print(k)"
      ],
      "metadata": {
        "colab": {
          "base_uri": "https://localhost:8080/"
        },
        "id": "5zGRGMrUfm8S",
        "outputId": "5efa0bf6-a0ef-4369-f808-9aa673959cfc"
      },
      "execution_count": 15,
      "outputs": [
        {
          "output_type": "stream",
          "name": "stdout",
          "text": [
            "<class 'int'>\n",
            "<class 'float'>\n"
          ]
        }
      ]
    },
    {
      "cell_type": "markdown",
      "source": [
        "mathematical operations on data sets"
      ],
      "metadata": {
        "id": "JIa3UEuPfrCX"
      }
    },
    {
      "cell_type": "code",
      "source": [
        "l=[1,2,3,4,5]\n",
        "add=l[0]+l[1]\n",
        "print(\"addition=\",add)\n",
        "mul=l[0]*l[1]\n",
        "print(\"multiplication=\",mul)\n",
        "pow=l[0]*l[1]\n",
        "print(\"power=\",pow)"
      ],
      "metadata": {
        "colab": {
          "base_uri": "https://localhost:8080/"
        },
        "id": "ktm3vAtdfrxv",
        "outputId": "33db1b77-e31b-4a2b-f5c6-18712151f888"
      },
      "execution_count": 14,
      "outputs": [
        {
          "output_type": "stream",
          "name": "stdout",
          "text": [
            "addition= 3\n",
            "multiplication= 2\n",
            "power= 2\n"
          ]
        }
      ]
    },
    {
      "cell_type": "markdown",
      "source": [
        "addition two arrays using numpy"
      ],
      "metadata": {
        "id": "uD9jU88yfx-u"
      }
    },
    {
      "cell_type": "code",
      "source": [
        "import numpy as n\n",
        "\n",
        "a = n.array([1, 2, 3])\n",
        "b = n.array([4, 5, 6])\n",
        "\n",
        "c = n.add(a, b)\n",
        "\n",
        "print(\"the result of\", a, \"+\", b, \"=\",c)"
      ],
      "metadata": {
        "colab": {
          "base_uri": "https://localhost:8080/"
        },
        "id": "9oxH3EWefyro",
        "outputId": "b9ac350e-6e22-443f-a142-8a37afa9eec7"
      },
      "execution_count": 13,
      "outputs": [
        {
          "output_type": "stream",
          "name": "stdout",
          "text": [
            "the result of [1 2 3] + [4 5 6] = [5 7 9]\n"
          ]
        }
      ]
    },
    {
      "cell_type": "markdown",
      "source": [
        "implement np.sin(),log(),log2(),np.exe()"
      ],
      "metadata": {
        "id": "JvaPd77Ff40V"
      }
    },
    {
      "cell_type": "code",
      "source": [
        "import numpy as np\n",
        "a=np.sin(60)\n",
        "b=np.log(5)\n",
        "c=np.log2(45)\n",
        "d=np.exp(0)\n",
        "print(\"np.sin(60)=\",a)\n",
        "print(\"np.log(5)=\",b)\n",
        "print(\"np.log2(45)=\",c)\n",
        "print(\"np.exp(0)=\",d)"
      ],
      "metadata": {
        "colab": {
          "base_uri": "https://localhost:8080/"
        },
        "id": "ACSftUa1f7AM",
        "outputId": "42452ceb-4a36-4908-aa5c-7db45c057e1b"
      },
      "execution_count": 12,
      "outputs": [
        {
          "output_type": "stream",
          "name": "stdout",
          "text": [
            "np.sin(60)= -0.3048106211022167\n",
            "np.log(5)= 1.6094379124341003\n",
            "np.log2(45)= 5.491853096329675\n",
            "np.exp(0)= 1.0\n"
          ]
        }
      ]
    },
    {
      "cell_type": "markdown",
      "source": [
        "Part-2 visualisation of a data using matplotlib,numpy and pandas"
      ],
      "metadata": {
        "id": "_pmRDUoVgMQx"
      }
    },
    {
      "cell_type": "markdown",
      "source": [
        "1. Generate a Data set for Health Care using the following:\n",
        "people = [’kiran’, arun’, ’vijay’, ’varun’] age =[25, 30, 35, 40, 45] height =[145, 151, 165, 173] weight=[45, 55, 65, 75]"
      ],
      "metadata": {
        "id": "rHN3k3-SgRhn"
      }
    },
    {
      "cell_type": "code",
      "source": [
        "import pandas as pd\n",
        "\n",
        "people = ['anvith', 'arun', 'harsha', 'varun']\n",
        "age = [25, 30, 35, 40]\n",
        "height = [145, 151, 165, 173]\n",
        "weight = [45, 55, 65, 75]\n",
        "\n",
        "\n",
        "healthcare_data = pd.DataFrame({\n",
        "    'Person': people,\n",
        "    'Age': age,\n",
        "    'Height': height,\n",
        "    'Weight': weight\n",
        "})\n",
        "\n",
        "print(healthcare_data)"
      ],
      "metadata": {
        "colab": {
          "base_uri": "https://localhost:8080/"
        },
        "id": "RUfUmF_kgSnV",
        "outputId": "0a6af6d3-9c1c-443d-95ce-0476b4d6e83e"
      },
      "execution_count": 7,
      "outputs": [
        {
          "output_type": "stream",
          "name": "stdout",
          "text": [
            "   Person  Age  Height  Weight\n",
            "0  anvith   25     145      45\n",
            "1    arun   30     151      55\n",
            "2  harsha   35     165      65\n",
            "3   varun   40     173      75\n"
          ]
        }
      ]
    },
    {
      "cell_type": "markdown",
      "source": [
        "2. Using the generated dataset given above. Generate the following graphs and justify the\n",
        "relationships among the vectors"
      ],
      "metadata": {
        "id": "rVSvRkPSgYjL"
      }
    },
    {
      "cell_type": "code",
      "source": [
        "import numpy as np\n",
        "import matplotlib.pyplot as plt\n",
        "\n",
        "x = np.array([1, 2, 3, 4, 5])\n",
        "y = np.array([2, 4, 6, 8, 10])\n",
        "\n",
        "plt.scatter(x, y)\n",
        "plt.title('Scatter Plot')\n",
        "plt.xlabel('X-axis')\n",
        "plt.ylabel('Y-axis')\n",
        "plt.show()"
      ],
      "metadata": {
        "colab": {
          "base_uri": "https://localhost:8080/",
          "height": 472
        },
        "id": "2qgUjRJDgZOo",
        "outputId": "8f0b7bc3-5d7b-4b05-df11-bd53749bd83a"
      },
      "execution_count": 6,
      "outputs": [
        {
          "output_type": "display_data",
          "data": {
            "text/plain": [
              "<Figure size 640x480 with 1 Axes>"
            ],
            "image/png": "[encoded data removed]"
          },
          "metadata": {}
        }
      ]
    },
    {
      "cell_type": "markdown",
      "source": [
        "3. scatter plot"
      ],
      "metadata": {
        "id": "3PUaWc2nghRO"
      }
    },
    {
      "cell_type": "code",
      "source": [
        "import matplotlib.pyplot as plt\n",
        "\n",
        "plt.scatter(healthcare_data['Age'], healthcare_data['Height'])\n",
        "plt.title('Scatter Plot - Age vs. Height')\n",
        "plt.xlabel('Age')\n",
        "plt.ylabel('Height')\n",
        "plt.show()"
      ],
      "metadata": {
        "colab": {
          "base_uri": "https://localhost:8080/",
          "height": 472
        },
        "id": "-385VJBSgiEv",
        "outputId": "cfa216dc-fa2e-47a0-90fc-4199d86e5742"
      },
      "execution_count": 8,
      "outputs": [
        {
          "output_type": "display_data",
          "data": {
            "text/plain": [
              "<Figure size 640x480 with 1 Axes>"
            ],
            "image/png": "[encoded data removed]"
          },
          "metadata": {}
        }
      ]
    },
    {
      "cell_type": "markdown",
      "source": [
        "4. Bar Chart"
      ],
      "metadata": {
        "id": "6zS1N5WZg0fz"
      }
    },
    {
      "cell_type": "code",
      "source": [
        "import matplotlib.pyplot as plt\n",
        "\n",
        "\n",
        "avg_height_weight = healthcare_data.groupby('Person').mean()[['Height', 'Weight']]\n",
        "\n",
        "\n",
        "avg_height_weight.plot(kind='bar', rot=0)\n",
        "plt.title('Average Height and Weight per Person')\n",
        "plt.xlabel('Person')\n",
        "plt.ylabel('Average Value')\n",
        "plt.show()"
      ],
      "metadata": {
        "colab": {
          "base_uri": "https://localhost:8080/",
          "height": 472
        },
        "id": "5vF6WawVg0NI",
        "outputId": "5541ec4d-953a-46d3-b70a-3c85b47142e3"
      },
      "execution_count": 9,
      "outputs": [
        {
          "output_type": "display_data",
          "data": {
            "text/plain": [
              "<Figure size 640x480 with 1 Axes>"
            ],
            "image/png": "[encoded data removed]"
          },
          "metadata": {}
        }
      ]
    },
    {
      "cell_type": "markdown",
      "source": [
        "5. Histogram"
      ],
      "metadata": {
        "id": "9Fa-rF-dg9A-"
      }
    },
    {
      "cell_type": "code",
      "source": [
        "import matplotlib.pyplot as plt\n",
        "\n",
        "plt.hist(healthcare_data['Age'], bins=10, color='skyblue', edgecolor='black')\n",
        "plt.title('Histogram - Distribution of Ages')\n",
        "plt.xlabel('Age')\n",
        "plt.ylabel('Frequency')\n",
        "plt.show()"
      ],
      "metadata": {
        "colab": {
          "base_uri": "https://localhost:8080/",
          "height": 472
        },
        "id": "d7n83oUQg8eg",
        "outputId": "a1b438c3-6c4c-434a-939b-0ccdd402c1e4"
      },
      "execution_count": 10,
      "outputs": [
        {
          "output_type": "display_data",
          "data": {
            "text/plain": [
              "<Figure size 640x480 with 1 Axes>"
            ],
            "image/png": "[encoded data removed]"
          },
          "metadata": {}
        }
      ]
    },
    {
      "cell_type": "markdown",
      "source": [
        "6. Provide Graph Title, labels for X, Y axis with proper justification and explaination of\n",
        "the graph."
      ],
      "metadata": {
        "id": "umq1TkxShBrb"
      }
    },
    {
      "cell_type": "code",
      "source": [
        "import matplotlib.pyplot as plt\n",
        "\n",
        "\n",
        "plt.hist(healthcare_data['Age'], bins=10, color='skyblue', edgecolor='black')\n",
        "\n",
        "\n",
        "plt.title('Distribution of Ages in Healthcare Dataset')\n",
        "plt.xlabel('Age')\n",
        "plt.ylabel('Frequency')\n",
        "\n",
        "\n",
        "plt.text(42, 1, 'Data represents ages of individuals in a healthcare dataset.', ha='right', color='gray')\n",
        "\n",
        "\n",
        "plt.show()"
      ],
      "metadata": {
        "colab": {
          "base_uri": "https://localhost:8080/",
          "height": 472
        },
        "id": "cQQ5_ic_hBY9",
        "outputId": "86ac677a-20c1-4e45-b5bb-e5aecfeb9d2d"
      },
      "execution_count": 11,
      "outputs": [
        {
          "output_type": "display_data",
          "data": {
            "text/plain": [
              "<Figure size 640x480 with 1 Axes>"
            ],
            "image/png": "[encoded data removed]"
          },
          "metadata": {}
        }
      ]
    }
  ]
}